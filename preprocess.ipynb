{
  "cells": [
    {
      "cell_type": "markdown",
      "metadata": {
        "colab_type": "text",
        "id": "view-in-github"
      },
      "source": [
        "<a href=\"https://colab.research.google.com/github/chaitanyasonawane-ai/Semester_Project-II/blob/master/data_processing.ipynb\" target=\"_parent\"><img src=\"https://colab.research.google.com/assets/colab-badge.svg\" alt=\"Open In Colab\"/></a>"
      ]
    },
    {
      "cell_type": "code",
      "execution_count": 5,
      "metadata": {
        "colab": {
          "base_uri": "https://localhost:8080/"
        },
        "id": "hf_cGmzeQvNO",
        "outputId": "26f758b0-b1ef-4cee-da7b-ea307fbdd0be"
      },
      "outputs": [
        {
          "name": "stderr",
          "output_type": "stream",
          "text": [
            "[nltk_data] Downloading package punkt_tab to\n",
            "[nltk_data]     C:\\Users\\conne\\AppData\\Roaming\\nltk_data...\n",
            "[nltk_data]   Package punkt_tab is already up-to-date!\n"
          ]
        }
      ],
      "source": [
        "import nltk # for text processing\n",
        "nltk.download('punkt_tab') # tool kit for tokenization\n",
        "import pandas as pd # Data manupulation\n",
        "import re # text Cleaning\n",
        "from nltk.tokenize import word_tokenize # for split text\n",
        "from nltk.stem import PorterStemmer # reduce word in simple form"
      ]
    },
    {
      "cell_type": "code",
      "execution_count": 21,
      "metadata": {
        "id": "VvNWoiuDRjlc"
      },
      "outputs": [
        {
          "name": "stdout",
          "output_type": "stream",
          "text": [
            "Columns in dataset: ['Comment', 'Sentiment']\n"
          ]
        }
      ],
      "source": [
        "df = pd.read_csv('data/YoutubeCommentsDataSet.csv')\n",
        "print(\"Columns in dataset:\", df.columns.tolist())   #print colms\n"
      ]
    },
    {
      "cell_type": "code",
      "execution_count": 15,
      "metadata": {
        "colab": {
          "base_uri": "https://localhost:8080/"
        },
        "id": "om2odOjGRnzo",
        "outputId": "fb3ed0e7-33b3-4db7-aafe-8a1e610f1c84"
      },
      "outputs": [
        {
          "name": "stdout",
          "output_type": "stream",
          "text": [
            "Columns in dataset: ['Comment', 'Sentiment']\n"
          ]
        }
      ],
      "source": [
        "# Checking the columns in dataset\n",
        "print(\"Columns in dataset:\", df.columns.tolist())"
      ]
    },
    {
      "cell_type": "code",
      "execution_count": 16,
      "metadata": {
        "id": "9vF5JJWmRuGP"
      },
      "outputs": [],
      "source": [
        "# Text Cleaning, Stopwords\n",
        "def clean_text(text):\n",
        "    text = str(text)\n",
        "    text = re.sub(r'http\\S+', '', text) # remove URL\n",
        "    text = re.sub(r'[^a-zA-Z\\s]', '', text) # remove emojis, spacial Char\n",
        "    return text.strip().lower() # convert lower case"
      ]
    },
    {
      "cell_type": "code",
      "execution_count": 17,
      "metadata": {
        "colab": {
          "base_uri": "https://localhost:8080/"
        },
        "id": "NvHKC1vMRy6r",
        "outputId": "5d2e565f-902c-443c-8c69-d9c72147cd34"
      },
      "outputs": [
        {
          "name": "stdout",
          "output_type": "stream",
          "text": [
            "Cleaned Sample: check out this video   and subscribe\n"
          ]
        }
      ],
      "source": [
        "# Just Example\n",
        "sample_comment = \"Check out this video: https://youtu.be/FLZvOKSCkxY?si=-fVMETgk-_q3X2Wi  and subscribe!\"\n",
        "cleaned_sample = clean_text(sample_comment)\n",
        "print(\"Cleaned Sample:\", cleaned_sample)"
      ]
    },
    {
      "cell_type": "code",
      "execution_count": 18,
      "metadata": {
        "id": "EEcPO68sSLlc"
      },
      "outputs": [],
      "source": [
        "# Clean overall Dataset\n",
        "df['clean_text'] = df['Comment'].apply(clean_text)"
      ]
    },
    {
      "cell_type": "code",
      "execution_count": 19,
      "metadata": {
        "id": "tIG335IeUWzo"
      },
      "outputs": [],
      "source": [
        "# Tokenization\n",
        "# seprate the text in words and convert in into SIMPLE FORM (ex. Running -> Run)\n",
        "stemmer = PorterStemmer() # for converting word in simple form\n",
        "df['stemmed_tokens'] = df['clean_text'].apply(\n",
        "    lambda x: [stemmer.stem(word) for word in word_tokenize(x)]\n",
        ")"
      ]
    },
    {
      "cell_type": "code",
      "execution_count": 20,
      "metadata": {
        "colab": {
          "base_uri": "https://localhost:8080/"
        },
        "id": "p4hfD0ZiVAxb",
        "outputId": "3ed0e502-d55d-4868-b4a5-0c3a036d9891"
      },
      "outputs": [
        {
          "name": "stdout",
          "output_type": "stream",
          "text": [
            "\n",
            "Processed DataFrame:\n",
            "                                             Comment  \\\n",
            "0  lets not forget that apple pay in 2014 require...   \n",
            "1  here in nz 50 of retailers don’t even have con...   \n",
            "2  i will forever acknowledge this channel with t...   \n",
            "3  whenever i go to a place that doesn’t take app...   \n",
            "4  apple pay is so convenient secure and easy to ...   \n",
            "\n",
            "                                          clean_text  \\\n",
            "0  lets not forget that apple pay in  required a ...   \n",
            "1  here in nz  of retailers dont even have contac...   \n",
            "2  i will forever acknowledge this channel with t...   \n",
            "3  whenever i go to a place that doesnt take appl...   \n",
            "4  apple pay is so convenient secure and easy to ...   \n",
            "\n",
            "                                      stemmed_tokens  \n",
            "0  [let, not, forget, that, appl, pay, in, requir...  \n",
            "1  [here, in, nz, of, retail, dont, even, have, c...  \n",
            "2  [i, will, forev, acknowledg, thi, channel, wit...  \n",
            "3  [whenev, i, go, to, a, place, that, doesnt, ta...  \n",
            "4  [appl, pay, is, so, conveni, secur, and, easi,...  \n"
          ]
        }
      ],
      "source": [
        "# Process the data in datsets\n",
        "print(\"\\nProcessed DataFrame:\")\n",
        "print(df[['Comment', 'clean_text', 'stemmed_tokens']].head())"
      ]
    },
    {
      "cell_type": "code",
      "execution_count": 19,
      "metadata": {
        "id": "ZsXiky6zQcw1"
      },
      "outputs": [],
      "source": []
    }
  ],
  "metadata": {
    "colab": {
      "include_colab_link": true,
      "provenance": []
    },
    "kernelspec": {
      "display_name": "venv",
      "language": "python",
      "name": "python3"
    },
    "language_info": {
      "codemirror_mode": {
        "name": "ipython",
        "version": 3
      },
      "file_extension": ".py",
      "mimetype": "text/x-python",
      "name": "python",
      "nbconvert_exporter": "python",
      "pygments_lexer": "ipython3",
      "version": "3.13.1"
    }
  },
  "nbformat": 4,
  "nbformat_minor": 0
}
